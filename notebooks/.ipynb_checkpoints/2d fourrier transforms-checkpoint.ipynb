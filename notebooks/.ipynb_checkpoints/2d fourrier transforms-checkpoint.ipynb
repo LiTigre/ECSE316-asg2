{
 "cells": [
  {
   "cell_type": "code",
   "execution_count": 1,
   "metadata": {},
   "outputs": [],
   "source": [
    "import numpy as np\n",
    "import math\n",
    "\n",
    "import sys\n",
    "sys.path.insert(0, '../src')\n",
    "\n",
    "from my_fourrier import *"
   ]
  },
  {
   "cell_type": "code",
   "execution_count": 2,
   "metadata": {},
   "outputs": [],
   "source": [
    "def NextPowerOfTwo(number):\n",
    "    # Returns next power of two following 'number'\n",
    "    return math.ceil(math.log(number,2))"
   ]
  },
  {
   "cell_type": "code",
   "execution_count": 3,
   "metadata": {},
   "outputs": [],
   "source": [
    "def pad_image(x):\n",
    "    w, h = x.shape\n",
    "    \n",
    "    # width\n",
    "    nextPower = NextPowerOfTwo(w)\n",
    "    deficit_w = int(math.pow(2, nextPower) - w)\n",
    "        \n",
    "    # height\n",
    "    nextPower = NextPowerOfTwo(h)\n",
    "    deficit_h = int(math.pow(2, nextPower) - h)\n",
    "    \n",
    "    x = np.pad(x, ((deficit_w, 0), (deficit_h, 0)), mode='constant')\n",
    "    \n",
    "    return x\n",
    "    "
   ]
  },
  {
   "cell_type": "code",
   "execution_count": 4,
   "metadata": {},
   "outputs": [
    {
     "data": {
      "text/plain": [
       "(4, 8)"
      ]
     },
     "execution_count": 4,
     "metadata": {},
     "output_type": "execute_result"
    }
   ],
   "source": [
    "temp = np.random.random((4, 8))\n",
    "pad_image(temp).shape"
   ]
  },
  {
   "cell_type": "code",
   "execution_count": 5,
   "metadata": {},
   "outputs": [],
   "source": [
    "test_x = np.random.random((64, 128))\n"
   ]
  },
  {
   "cell_type": "code",
   "execution_count": 6,
   "metadata": {},
   "outputs": [],
   "source": [
    "def FFT2(x):\n",
    "    result = np.empty_like(x, dtype = complex)\n",
    "    w, h = x.shape\n",
    "    \n",
    "    for i in range(w):\n",
    "        result[i, :] = FFT(x[i, :])\n",
    "        \n",
    "    for i in range(h):\n",
    "        result[:, i] = FFT(result[:, i])\n",
    "        \n",
    "    return result"
   ]
  },
  {
   "cell_type": "code",
   "execution_count": 7,
   "metadata": {},
   "outputs": [
    {
     "data": {
      "text/plain": [
       "True"
      ]
     },
     "execution_count": 7,
     "metadata": {},
     "output_type": "execute_result"
    }
   ],
   "source": [
    "np.allclose(FFT2(test_x), np.fft.fft2(test_x))\n",
    "\n"
   ]
  },
  {
   "cell_type": "code",
   "execution_count": 8,
   "metadata": {},
   "outputs": [],
   "source": [
    "def IFFT2_helper(x):\n",
    "    temp = np.flip(x[1:])\n",
    "    x = np.concatenate(([x[0]], temp), axis = 0)\n",
    "    \n",
    "    return FFT(x)"
   ]
  },
  {
   "cell_type": "code",
   "execution_count": 9,
   "metadata": {},
   "outputs": [],
   "source": [
    "def IFFT2(x):\n",
    "    result = np.empty_like(x, dtype = complex)\n",
    "    w, h = x.shape\n",
    "    \n",
    "    for i in range(w):\n",
    "        result[i, :] = IFFT2_helper(x[i, :])\n",
    "        \n",
    "    for i in range(h):\n",
    "        result[:, i] = IFFT2_helper(result[:, i])\n",
    "        \n",
    "    return result / (w * h)"
   ]
  },
  {
   "cell_type": "code",
   "execution_count": 10,
   "metadata": {},
   "outputs": [
    {
     "data": {
      "text/plain": [
       "True"
      ]
     },
     "execution_count": 10,
     "metadata": {},
     "output_type": "execute_result"
    }
   ],
   "source": [
    "np.allclose(IFFT2(FFT2(test_x)), np.fft.ifft2(np.fft.fft2(test_x)))\n",
    "\n"
   ]
  },
  {
   "cell_type": "code",
   "execution_count": null,
   "metadata": {},
   "outputs": [],
   "source": []
  }
 ],
 "metadata": {
  "kernelspec": {
   "display_name": "Python 3",
   "language": "python",
   "name": "python3"
  },
  "language_info": {
   "codemirror_mode": {
    "name": "ipython",
    "version": 3
   },
   "file_extension": ".py",
   "mimetype": "text/x-python",
   "name": "python",
   "nbconvert_exporter": "python",
   "pygments_lexer": "ipython3",
   "version": "3.6.10"
  }
 },
 "nbformat": 4,
 "nbformat_minor": 4
}
