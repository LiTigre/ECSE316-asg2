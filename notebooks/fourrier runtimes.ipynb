{
 "cells": [
  {
   "cell_type": "code",
   "execution_count": 1,
   "metadata": {},
   "outputs": [],
   "source": [
    "import numpy as np\n",
    "import matplotlib.pyplot as plt\n",
    "import matplotlib.colors as colors\n",
    "import cv2\n",
    "import math\n",
    "\n",
    "import time\n",
    "\n",
    "from scipy.sparse import csr_matrix\n",
    "import scipy.sparse\n",
    "\n",
    "import sys\n",
    "sys.path.insert(0, '../src')\n",
    "\n",
    "from my_fourrier import *\n",
    "from helpers import *"
   ]
  },
  {
   "cell_type": "code",
   "execution_count": 2,
   "metadata": {},
   "outputs": [],
   "source": [
    "times_size_dft = []\n",
    "times_size_fft = []\n",
    "sizes_to_test = [5, 7, 9, 11]\n",
    "\n",
    "for matrix_size in sizes_to_test:\n",
    "    \n",
    "    times_dft = []\n",
    "    times_fft = []\n",
    "    for i in range(0, 10):\n",
    "        m = np.random.random((2**matrix_size, 2**matrix_size))\n",
    "\n",
    "        \n",
    "        ## -----\n",
    "        \n",
    "        start_time = time.time()\n",
    "\n",
    "        DFT2(m)\n",
    "        \n",
    "        end_time = time.time()\n",
    "        \n",
    "        times_dft.append(end_time - start_time)\n",
    "        \n",
    "        ## ------\n",
    "        start_time = time.time()\n",
    "\n",
    "        FFT2(m)\n",
    "        \n",
    "        end_time = time.time()\n",
    "        \n",
    "        times_fft.append(end_time - start_time)\n",
    "        \n",
    "        \n",
    "    \n",
    "    times_size_dft.append(times_dft)\n",
    "    times_size_fft.append(times_fft)\n",
    "    \n",
    "    \n",
    "    "
   ]
  },
  {
   "cell_type": "code",
   "execution_count": 3,
   "metadata": {},
   "outputs": [
    {
     "name": "stdout",
     "output_type": "stream",
     "text": [
      "done!\n"
     ]
    }
   ],
   "source": [
    "print('done!')"
   ]
  },
  {
   "cell_type": "code",
   "execution_count": 4,
   "metadata": {},
   "outputs": [
    {
     "data": {
      "text/plain": [
       "[[0.012875795364379883,\n",
       "  0.009898900985717773,\n",
       "  0.009035110473632812,\n",
       "  0.009025096893310547,\n",
       "  0.014856815338134766,\n",
       "  0.009001970291137695,\n",
       "  0.008317947387695312,\n",
       "  0.010951995849609375,\n",
       "  0.008031129837036133,\n",
       "  0.008003950119018555],\n",
       " [0.461932897567749,\n",
       "  0.4719269275665283,\n",
       "  0.43961191177368164,\n",
       "  0.4615480899810791,\n",
       "  0.45630574226379395,\n",
       "  0.4587211608886719,\n",
       "  0.4541630744934082,\n",
       "  0.4738121032714844,\n",
       "  0.5733246803283691,\n",
       "  0.512822151184082],\n",
       " [28.277297973632812,\n",
       "  30.664658069610596,\n",
       "  31.528269052505493,\n",
       "  34.00711917877197,\n",
       "  33.82915997505188,\n",
       "  33.79071307182312,\n",
       "  34.78089499473572,\n",
       "  45.58188009262085,\n",
       "  43.498274087905884,\n",
       "  37.194786071777344],\n",
       " [1918.7828888893127,\n",
       "  1888.825923204422,\n",
       "  1918.192025899887,\n",
       "  1885.8840699195862,\n",
       "  1883.936763048172,\n",
       "  1912.1962208747864,\n",
       "  1880.946506023407,\n",
       "  1894.467707157135,\n",
       "  1896.6453449726105,\n",
       "  1920.4664142131805]]"
      ]
     },
     "execution_count": 4,
     "metadata": {},
     "output_type": "execute_result"
    }
   ],
   "source": [
    "times_size_dft"
   ]
  },
  {
   "cell_type": "code",
   "execution_count": 17,
   "metadata": {},
   "outputs": [],
   "source": [
    "dft_mean = [np.mean(x) for x in times_size_dft]\n",
    "dft_std = [2 * np.std(x) for x in times_size_dft]\n",
    "\n",
    "fft_mean = [np.mean(x) for x in times_size_fft]\n",
    "fft_std = [2 * np.std(x) for x in times_size_fft]"
   ]
  },
  {
   "cell_type": "code",
   "execution_count": 27,
   "metadata": {},
   "outputs": [
    {
     "data": {
      "image/png": "[encoded data removed]",
      "text/plain": [
       "<Figure size 432x288 with 1 Axes>"
      ]
     },
     "metadata": {
      "needs_background": "light"
     },
     "output_type": "display_data"
    }
   ],
   "source": [
    "plt.errorbar(sizes_to_test, fft_mean, yerr=fft_std, fmt='-o', label = 'fft')\n",
    "plt.errorbar(sizes_to_test, dft_mean, yerr=dft_std, fmt='-o', label = 'dft')\n",
    "\n",
    "plt.xlabel('exponent size of matrix (2^x)')\n",
    "plt.ylabel('runtime (seconds)')\n",
    "plt.title('runtime graph of fourrier transforms with various problem sizes')\n",
    "plt.legend()\n",
    "\n",
    "plt.show()"
   ]
  },
  {
   "cell_type": "code",
   "execution_count": 13,
   "metadata": {},
   "outputs": [
    {
     "name": "stdout",
     "output_type": "stream",
     "text": [
      "[0.009999871253967285, 0.47641687393188475, 35.315305256843565, 1900.03438642025]\n",
      "[0.0043054778202179095, 0.07413962669026926, 10.35238424994732, 29.922563221026092]\n"
     ]
    }
   ],
   "source": [
    "print(dft_mean)\n",
    "print(dft_std)"
   ]
  },
  {
   "cell_type": "code",
   "execution_count": 14,
   "metadata": {},
   "outputs": [
    {
     "name": "stdout",
     "output_type": "stream",
     "text": [
      "[0.009464287757873535, 0.4828216075897217, 17.990140771865846, 264.0158390760422]\n",
      "[0.002638897865703551, 0.07365123378901849, 5.822731126468172, 0.5909479104776425]\n"
     ]
    }
   ],
   "source": [
    "print(fft_mean)\n",
    "print(fft_std)"
   ]
  },
  {
   "cell_type": "code",
   "execution_count": 15,
   "metadata": {},
   "outputs": [],
   "source": [
    "np.savetxt('dft_times', times_size_dft)\n",
    "np.savetxt('fft_times', times_size_fft)"
   ]
  },
  {
   "cell_type": "code",
   "execution_count": 28,
   "metadata": {},
   "outputs": [],
   "source": [
    "np.savetxt('problem_sizes', sizes_to_test)"
   ]
  },
  {
   "cell_type": "code",
   "execution_count": 16,
   "metadata": {},
   "outputs": [
    {
     "data": {
      "text/plain": [
       "array([[1.28757954e-02, 9.89890099e-03, 9.03511047e-03, 9.02509689e-03,\n",
       "        1.48568153e-02, 9.00197029e-03, 8.31794739e-03, 1.09519958e-02,\n",
       "        8.03112984e-03, 8.00395012e-03],\n",
       "       [4.61932898e-01, 4.71926928e-01, 4.39611912e-01, 4.61548090e-01,\n",
       "        4.56305742e-01, 4.58721161e-01, 4.54163074e-01, 4.73812103e-01,\n",
       "        5.73324680e-01, 5.12822151e-01],\n",
       "       [2.82772980e+01, 3.06646581e+01, 3.15282691e+01, 3.40071192e+01,\n",
       "        3.38291600e+01, 3.37907131e+01, 3.47808950e+01, 4.55818801e+01,\n",
       "        4.34982741e+01, 3.71947861e+01],\n",
       "       [1.91878289e+03, 1.88882592e+03, 1.91819203e+03, 1.88588407e+03,\n",
       "        1.88393676e+03, 1.91219622e+03, 1.88094651e+03, 1.89446771e+03,\n",
       "        1.89664534e+03, 1.92046641e+03]])"
      ]
     },
     "execution_count": 16,
     "metadata": {},
     "output_type": "execute_result"
    }
   ],
   "source": [
    "np.loadtxt('dft_times')"
   ]
  },
  {
   "cell_type": "code",
   "execution_count": null,
   "metadata": {},
   "outputs": [],
   "source": []
  }
 ],
 "metadata": {
  "kernelspec": {
   "display_name": "Python 3",
   "language": "python",
   "name": "python3"
  },
  "language_info": {
   "codemirror_mode": {
    "name": "ipython",
    "version": 3
   },
   "file_extension": ".py",
   "mimetype": "text/x-python",
   "name": "python",
   "nbconvert_exporter": "python",
   "pygments_lexer": "ipython3",
   "version": "3.6.10"
  }
 },
 "nbformat": 4,
 "nbformat_minor": 4
}
